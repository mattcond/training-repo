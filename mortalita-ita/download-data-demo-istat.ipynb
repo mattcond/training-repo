{
 "cells": [
  {
   "cell_type": "code",
   "execution_count": 1,
   "metadata": {},
   "outputs": [
    {
     "name": "stderr",
     "output_type": "stream",
     "text": [
      "\n",
      "Attaching package: ‘dplyr’\n",
      "\n",
      "\n",
      "The following objects are masked from ‘package:stats’:\n",
      "\n",
      "    filter, lag\n",
      "\n",
      "\n",
      "The following objects are masked from ‘package:base’:\n",
      "\n",
      "    intersect, setdiff, setequal, union\n",
      "\n",
      "\n",
      "\n",
      "Attaching package: ‘glue’\n",
      "\n",
      "\n",
      "The following object is masked from ‘package:dplyr’:\n",
      "\n",
      "    collapse\n",
      "\n",
      "\n",
      "Loading required package: xml2\n",
      "\n",
      "\n",
      "Attaching package: ‘data.table’\n",
      "\n",
      "\n",
      "The following objects are masked from ‘package:dplyr’:\n",
      "\n",
      "    between, first, last\n",
      "\n",
      "\n"
     ]
    }
   ],
   "source": [
    "library(dplyr)\n",
    "library(httr)\n",
    "library(glue)\n",
    "library(rvest)\n",
    "library(stringr)\n",
    "library(data.table)\n",
    "library(tidyr)"
   ]
  },
  {
   "cell_type": "code",
   "execution_count": 2,
   "metadata": {},
   "outputs": [],
   "source": [
    "start_period = '2016'\n",
    "end_period = '2020'"
   ]
  },
  {
   "cell_type": "code",
   "execution_count": 3,
   "metadata": {},
   "outputs": [],
   "source": [
    "parsing_df <- function(data, sc, h, cat=NA, year=NA, month=NA){\n",
    "    \n",
    "    data = data %>% str_replace_all(\"'\", ' ')\n",
    "    \n",
    "    df <- read.table(text = data, sep = ',', stringsAsFactors = F)\n",
    "    df <- df[,sc]\n",
    "    \n",
    "    colnames(df) <- h\n",
    "    \n",
    "    df['Categoria'] = cat\n",
    "    df['Anno'] = year\n",
    "    df['Mese'] = month\n",
    "    \n",
    "    return(df)\n",
    "    \n",
    "}"
   ]
  },
  {
   "cell_type": "code",
   "execution_count": 4,
   "metadata": {},
   "outputs": [],
   "source": [
    "clear_content <- function(data, sc = c(1:3,11), y=NA, m=NA){\n",
    "    \n",
    "    data <- data[data!=\"\"]\n",
    "\n",
    "    len_data = data %>% str_detect('^\\\\d+') %>% sum()/3\n",
    "\n",
    "    header <- read.table(text = data[3],sep = ',', stringsAsFactors = F)[1,sc] %>% as.character()\n",
    "        \n",
    "    df_ix <- data.frame(ix_start = str_which(data, '^\\\\d+',negate = T) + 1, \n",
    "                    h = data[!str_detect(data, '^\\\\d+')], \n",
    "                    stringsAsFactors = F) %>% \n",
    "    filter(str_detect(pattern = 'Totale|Maschi|Femmine', string = h)) %>%\n",
    "    mutate(categoria = str_extract(h, '[A-Za-z]+$')) %>% \n",
    "    select(-h) %>%\n",
    "    mutate(ix_stop = ix_start + len_data - 1) %>%\n",
    "    data.frame() %>%\n",
    "    select(categoria, ix_start, ix_stop)\n",
    "    \n",
    "    data_list <- list()\n",
    "\n",
    "    for(i in 1:nrow(df_ix)){\n",
    "\n",
    "        data_list[[df_ix$categoria[i]]] <- parsing_df(data[df_ix$ix_start[i]:df_ix$ix_stop[i]], \n",
    "                                                      sc, \n",
    "                                                      header, \n",
    "                                                      year = y,\n",
    "                                                      month = m,\n",
    "                                                      cat = df_ix$categoria[i])\n",
    "\n",
    "    }\n",
    "    \n",
    "    aux_df <- data_list %>% do.call(what = rbind)\n",
    "    row.names(aux_df) <- NULL\n",
    "    \n",
    "    return(aux_df)\n",
    "    \n",
    "}"
   ]
  },
  {
   "cell_type": "markdown",
   "metadata": {},
   "source": [
    "## OTTENGO LE PROVINCE"
   ]
  },
  {
   "cell_type": "code",
   "execution_count": 5,
   "metadata": {},
   "outputs": [],
   "source": [
    "get_province = 'http://demo.istat.it/bilmens{y}gen/query1.php?lingua=ita&allrp=1&periodo=1&submit=Tavola'"
   ]
  },
  {
   "cell_type": "code",
   "execution_count": 6,
   "metadata": {},
   "outputs": [],
   "source": [
    "get_data = 'http://demo.istat.it/bilmens{y}gen/bild7b1.php?lingua=ita&allrp=4&Pro={pv}&periodo={pr}&submit=Salva'"
   ]
  },
  {
   "cell_type": "code",
   "execution_count": 7,
   "metadata": {},
   "outputs": [],
   "source": [
    "months = seq(1,12,1)"
   ]
  },
  {
   "cell_type": "code",
   "execution_count": 8,
   "metadata": {},
   "outputs": [],
   "source": [
    "years = seq(as.integer(start_period), as.integer(end_period), by=1)"
   ]
  },
  {
   "cell_type": "code",
   "execution_count": null,
   "metadata": {},
   "outputs": [],
   "source": [
    "for(year in years){\n",
    "    \n",
    "    cat(year, '\\n')\n",
    "    \n",
    "    cont <- GET(glue(get_province, y = year)) %>% content()\n",
    "    tbl <- cont %>% html_nodes('table') %>% html_table()\n",
    "    \n",
    "    df <- tbl[[2]]\n",
    "    \n",
    "    province <- df %>% filter(str_detect(X1, '\\\\d+')) %>% pull(X1) %>% unique\n",
    "    \n",
    "    for(prov in province){\n",
    "        \n",
    "        cat(prov, '\\n')\n",
    "        \n",
    "        for(month in months){\n",
    "            \n",
    "            to_read_url <- glue(get_data, y = year, pv = prov, pr = month)\n",
    "                        \n",
    "            fwrite(clear_content(readLines(to_read_url), y = year, m = month), glue('data/pop_{pr}_{y}_{m}.csv', pr = str_pad(prov, 5, 'left', '0'), y = year, m = str_pad(month,2, 'left', '0')))\n",
    "                \n",
    "            Sys.sleep(5)\n",
    "        }        \n",
    "        \n",
    "    }\n",
    "    \n",
    "    pop_data <- dir('data', full.names = T, pattern = 'pop_*') %>% lapply(fread)\n",
    "    full_pop_data <- pop_data %>% do.call(what = rbind)\n",
    "    \n",
    "    fwrite(full_pop_data, glue('popolazione_italia_{y}', y = year))\n",
    "    \n",
    "    lapply(dir('data', full.names = T, pattern = 'pop_*'), file.remove)\n",
    "}"
   ]
  },
  {
   "cell_type": "raw",
   "metadata": {},
   "source": [
    "clear_content(readLines(to_read_url), y = year, m = month)"
   ]
  },
  {
   "cell_type": "raw",
   "metadata": {},
   "source": [
    "url <- to_read_url"
   ]
  },
  {
   "cell_type": "raw",
   "metadata": {},
   "source": [
    "data_list <- dir('data', full.names = T)"
   ]
  },
  {
   "cell_type": "raw",
   "metadata": {},
   "source": [
    "x <- readLines(url)\n",
    "x <- x[x!=\"\"]\n",
    "\n",
    "cat('file length:', length(x), '\\n')\n",
    "\n",
    "len_data = x %>% str_detect('^\\\\d+') %>% sum()/3\n",
    "\n",
    "selected_columns <- c(1:3,11)\n",
    "header <- read.table(text = x[3],sep = ',', stringsAsFactors = F)[1,selected_columns] %>% as.character()\n",
    "cat('data length:', len_data, '\\n')"
   ]
  },
  {
   "cell_type": "raw",
   "metadata": {},
   "source": [
    "header"
   ]
  },
  {
   "cell_type": "raw",
   "metadata": {},
   "source": [
    "df_ix <- data.frame(ix_start = str_which(x, '^\\\\d+',negate = T) + 1, \n",
    "                    h = x[!str_detect(x, '^\\\\d+')], \n",
    "                    stringsAsFactors = F) %>% \n",
    "    filter(str_detect(pattern = 'Totale|Maschi|Femmine', string = h)) %>%\n",
    "    mutate(categoria = str_extract(h, '[A-Za-z]+$')) %>% \n",
    "    select(-h) %>%\n",
    "    mutate(ix_stop = ix_start + len_data - 1) %>%\n",
    "    data.frame() %>%\n",
    "    select(categoria, ix_start, ix_stop)\n",
    "\n",
    "df_ix"
   ]
  },
  {
   "cell_type": "raw",
   "metadata": {},
   "source": [
    "selected_columns"
   ]
  },
  {
   "cell_type": "raw",
   "metadata": {},
   "source": [
    "file_list <- list()\n",
    "\n",
    "for(i in 1:nrow(df_ix)){\n",
    "    \n",
    "    file_list[[df_ix$categoria[i]]] <- parsing_df(x[df_ix$ix_start[i]:df_ix$ix_stop[i]], selected_columns, header, cat = df_ix$categoria[i])\n",
    "    \n",
    "}"
   ]
  },
  {
   "cell_type": "raw",
   "metadata": {},
   "source": [
    "readLines(url) %>% clear_content"
   ]
  }
 ],
 "metadata": {
  "kernelspec": {
   "display_name": "R",
   "language": "R",
   "name": "ir"
  },
  "language_info": {
   "codemirror_mode": "r",
   "file_extension": ".r",
   "mimetype": "text/x-r-source",
   "name": "R",
   "pygments_lexer": "r",
   "version": "3.6.3"
  }
 },
 "nbformat": 4,
 "nbformat_minor": 4
}
