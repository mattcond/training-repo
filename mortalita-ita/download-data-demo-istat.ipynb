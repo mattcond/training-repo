{
 "cells": [
  {
   "cell_type": "code",
   "execution_count": 1,
   "metadata": {
    "collapsed": true,
    "jupyter": {
     "outputs_hidden": true
    }
   },
   "outputs": [
    {
     "name": "stderr",
     "output_type": "stream",
     "text": [
      "\n",
      "Attaching package: ‘dplyr’\n",
      "\n",
      "\n",
      "The following objects are masked from ‘package:stats’:\n",
      "\n",
      "    filter, lag\n",
      "\n",
      "\n",
      "The following objects are masked from ‘package:base’:\n",
      "\n",
      "    intersect, setdiff, setequal, union\n",
      "\n",
      "\n",
      "\n",
      "Attaching package: ‘glue’\n",
      "\n",
      "\n",
      "The following object is masked from ‘package:dplyr’:\n",
      "\n",
      "    collapse\n",
      "\n",
      "\n",
      "Loading required package: xml2\n",
      "\n",
      "\n",
      "Attaching package: ‘data.table’\n",
      "\n",
      "\n",
      "The following objects are masked from ‘package:dplyr’:\n",
      "\n",
      "    between, first, last\n",
      "\n",
      "\n"
     ]
    }
   ],
   "source": [
    "library(dplyr)\n",
    "library(httr)\n",
    "library(glue)\n",
    "library(rvest)\n",
    "library(stringr)\n",
    "library(data.table)\n",
    "library(tidyr)"
   ]
  },
  {
   "cell_type": "code",
   "execution_count": 2,
   "metadata": {},
   "outputs": [],
   "source": [
    "start_period = '2015'\n",
    "end_period = '2015'"
   ]
  },
  {
   "cell_type": "code",
   "execution_count": 3,
   "metadata": {},
   "outputs": [],
   "source": [
    "parsing_df <- function(data, sc, h, cat=NA, year=NA, month=NA){\n",
    "    \n",
    "    data = data %>% str_replace_all(\"'\", ' ')\n",
    "    \n",
    "    df <- read.table(text = data, sep = ',', stringsAsFactors = F)\n",
    "    df <- df[,sc]\n",
    "    \n",
    "    colnames(df) <- h\n",
    "    \n",
    "    df['Categoria'] = cat\n",
    "    df['Anno'] = year\n",
    "    df['Mese'] = month\n",
    "    \n",
    "    return(df)\n",
    "    \n",
    "}"
   ]
  },
  {
   "cell_type": "code",
   "execution_count": 4,
   "metadata": {},
   "outputs": [],
   "source": [
    "clear_content <- function(data, sc = c(1:3,11), y=NA, m=NA){\n",
    "    \n",
    "    data <- data[data!=\"\"]\n",
    "\n",
    "    len_data = data %>% str_detect('^\\\\d+') %>% sum()/3\n",
    "\n",
    "    header <- read.table(text = data[3],sep = ',', stringsAsFactors = F)[1,sc] %>% as.character()\n",
    "        \n",
    "    df_ix <- data.frame(ix_start = str_which(data, '^\\\\d+',negate = T) + 1, \n",
    "                    h = data[!str_detect(data, '^\\\\d+')], \n",
    "                    stringsAsFactors = F) %>% \n",
    "    filter(str_detect(pattern = 'Totale|Maschi|Femmine', string = h)) %>%\n",
    "    mutate(categoria = str_extract(h, '[A-Za-z]+$')) %>% \n",
    "    select(-h) %>%\n",
    "    mutate(ix_stop = ix_start + len_data - 1) %>%\n",
    "    data.frame() %>%\n",
    "    select(categoria, ix_start, ix_stop)\n",
    "    \n",
    "    data_list <- list()\n",
    "\n",
    "    for(i in 1:nrow(df_ix)){\n",
    "\n",
    "        data_list[[df_ix$categoria[i]]] <- parsing_df(data[df_ix$ix_start[i]:df_ix$ix_stop[i]], \n",
    "                                                      sc, \n",
    "                                                      header, \n",
    "                                                      year = y,\n",
    "                                                      month = m,\n",
    "                                                      cat = df_ix$categoria[i])\n",
    "\n",
    "    }\n",
    "    \n",
    "    aux_df <- data_list %>% do.call(what = rbind)\n",
    "    row.names(aux_df) <- NULL\n",
    "    \n",
    "    return(aux_df)\n",
    "    \n",
    "}"
   ]
  },
  {
   "cell_type": "markdown",
   "metadata": {},
   "source": [
    "## OTTENGO LE PROVINCE"
   ]
  },
  {
   "cell_type": "code",
   "execution_count": 5,
   "metadata": {},
   "outputs": [],
   "source": [
    "get_province = 'http://demo.istat.it/bilmens{y}gen/query1.php?lingua=ita&allrp=1&periodo=1&submit=Tavola'"
   ]
  },
  {
   "cell_type": "code",
   "execution_count": 6,
   "metadata": {},
   "outputs": [],
   "source": [
    "get_data = 'http://demo.istat.it/bilmens{y}gen/bild7b1.php?lingua=ita&allrp=4&Pro={pv}&periodo={pr}&submit=Salva'"
   ]
  },
  {
   "cell_type": "code",
   "execution_count": 7,
   "metadata": {},
   "outputs": [],
   "source": [
    "months = seq(1,12,1)"
   ]
  },
  {
   "cell_type": "code",
   "execution_count": 8,
   "metadata": {},
   "outputs": [],
   "source": [
    "years = seq(as.integer(start_period), as.integer(end_period), by=1)"
   ]
  },
  {
   "cell_type": "code",
   "execution_count": 9,
   "metadata": {},
   "outputs": [
    {
     "name": "stdout",
     "output_type": "stream",
     "text": [
      "2015 \n"
     ]
    },
    {
     "ename": "ERROR",
     "evalue": "Error in tbl[[2]]: subscript out of bounds\n",
     "output_type": "error",
     "traceback": [
      "Error in tbl[[2]]: subscript out of bounds\nTraceback:\n"
     ]
    }
   ],
   "source": [
    "for(year in years){\n",
    "    \n",
    "    cat(year, '\\n')\n",
    "    \n",
    "    cont <- GET(glue(get_province, y = year)) %>% content()\n",
    "    tbl <- cont %>% html_nodes('table') %>% html_table()\n",
    "    \n",
    "    df <- tbl[[2]]\n",
    "    \n",
    "    province <- df %>% filter(str_detect(X1, '\\\\d+')) %>% pull(X1) %>% unique\n",
    "    \n",
    "    for(prov in province){\n",
    "        \n",
    "        cat(prov, '\\n')\n",
    "        \n",
    "        for(month in months){\n",
    "            \n",
    "            to_read_url <- glue(get_data, y = year, pv = prov, pr = month)\n",
    "                        \n",
    "            fwrite(clear_content(readLines(to_read_url), y = year, m = month), glue('data/pop_{pr}_{y}_{m}.csv', pr = str_pad(prov, 5, 'left', '0'), y = year, m = str_pad(month,2, 'left', '0')))\n",
    "                \n",
    "            Sys.sleep(5)\n",
    "        }        \n",
    "        \n",
    "    }\n",
    "    \n",
    "    pop_data <- dir('data', full.names = T, pattern = 'pop_*') %>% lapply(fread)\n",
    "    full_pop_data <- pop_data %>% do.call(what = rbind)\n",
    "    \n",
    "    fwrite(full_pop_data, glue('popolazione_italia_{y}', y = year))\n",
    "    \n",
    "    lapply(pop_data, file.remove)\n",
    "}"
   ]
  },
  {
   "cell_type": "code",
   "execution_count": 13,
   "metadata": {},
   "outputs": [
    {
     "ename": "ERROR",
     "evalue": "Error in textConnection(text, encoding = \"UTF-8\"): object 'x' not found\n",
     "output_type": "error",
     "traceback": [
      "Error in textConnection(text, encoding = \"UTF-8\"): object 'x' not found\nTraceback:\n",
      "1. clear_content(readLines(to_read_url), y = year, m = month)",
      "2. read.table(text = x[3], sep = \",\", stringsAsFactors = F)[1, sc] %>% \n .     as.character()   # at line 7 of file <text>",
      "3. eval(lhs, parent, parent)",
      "4. eval(lhs, parent, parent)",
      "5. read.table(text = x[3], sep = \",\", stringsAsFactors = F)",
      "6. textConnection(text, encoding = \"UTF-8\")"
     ]
    }
   ],
   "source": [
    "clear_content(readLines(to_read_url), y = year, m = month)"
   ]
  },
  {
   "cell_type": "code",
   "execution_count": 14,
   "metadata": {},
   "outputs": [],
   "source": [
    "url <- to_read_url"
   ]
  },
  {
   "cell_type": "code",
   "execution_count": 57,
   "metadata": {},
   "outputs": [],
   "source": [
    "data_list <- dir('data', full.names = T)"
   ]
  },
  {
   "cell_type": "code",
   "execution_count": 15,
   "metadata": {},
   "outputs": [
    {
     "name": "stdout",
     "output_type": "stream",
     "text": [
      "file length: 952 \n",
      "data length: 315 \n"
     ]
    }
   ],
   "source": [
    "x <- readLines(url)\n",
    "x <- x[x!=\"\"]\n",
    "\n",
    "cat('file length:', length(x), '\\n')\n",
    "\n",
    "len_data = x %>% str_detect('^\\\\d+') %>% sum()/3\n",
    "\n",
    "selected_columns <- c(1:3,11)\n",
    "header <- read.table(text = x[3],sep = ',', stringsAsFactors = F)[1,selected_columns] %>% as.character()\n",
    "cat('data length:', len_data, '\\n')"
   ]
  },
  {
   "cell_type": "code",
   "execution_count": 16,
   "metadata": {},
   "outputs": [
    {
     "data": {
      "text/html": [
       "<style>\n",
       ".list-inline {list-style: none; margin:0; padding: 0}\n",
       ".list-inline>li {display: inline-block}\n",
       ".list-inline>li:not(:last-child)::after {content: \"\\00b7\"; padding: 0 .5ex}\n",
       "</style>\n",
       "<ol class=list-inline><li>'Codice Comune'</li><li>'Comuni'</li><li>'Popolazione inizio periodo'</li><li>'Popolazione fine periodo'</li></ol>\n"
      ],
      "text/latex": [
       "\\begin{enumerate*}\n",
       "\\item 'Codice Comune'\n",
       "\\item 'Comuni'\n",
       "\\item 'Popolazione inizio periodo'\n",
       "\\item 'Popolazione fine periodo'\n",
       "\\end{enumerate*}\n"
      ],
      "text/markdown": [
       "1. 'Codice Comune'\n",
       "2. 'Comuni'\n",
       "3. 'Popolazione inizio periodo'\n",
       "4. 'Popolazione fine periodo'\n",
       "\n",
       "\n"
      ],
      "text/plain": [
       "[1] \"Codice Comune\"              \"Comuni\"                    \n",
       "[3] \"Popolazione inizio periodo\" \"Popolazione fine periodo\"  "
      ]
     },
     "metadata": {},
     "output_type": "display_data"
    }
   ],
   "source": [
    "header"
   ]
  },
  {
   "cell_type": "code",
   "execution_count": 17,
   "metadata": {},
   "outputs": [
    {
     "data": {
      "text/html": [
       "<table>\n",
       "<caption>A data.frame: 3 × 3</caption>\n",
       "<thead>\n",
       "\t<tr><th scope=col>categoria</th><th scope=col>ix_start</th><th scope=col>ix_stop</th></tr>\n",
       "\t<tr><th scope=col>&lt;chr&gt;</th><th scope=col>&lt;dbl&gt;</th><th scope=col>&lt;dbl&gt;</th></tr>\n",
       "</thead>\n",
       "<tbody>\n",
       "\t<tr><td>Totale </td><td>  4</td><td>318</td></tr>\n",
       "\t<tr><td>Maschi </td><td>321</td><td>635</td></tr>\n",
       "\t<tr><td>Femmine</td><td>638</td><td>952</td></tr>\n",
       "</tbody>\n",
       "</table>\n"
      ],
      "text/latex": [
       "A data.frame: 3 × 3\n",
       "\\begin{tabular}{lll}\n",
       " categoria & ix\\_start & ix\\_stop\\\\\n",
       " <chr> & <dbl> & <dbl>\\\\\n",
       "\\hline\n",
       "\t Totale  &   4 & 318\\\\\n",
       "\t Maschi  & 321 & 635\\\\\n",
       "\t Femmine & 638 & 952\\\\\n",
       "\\end{tabular}\n"
      ],
      "text/markdown": [
       "\n",
       "A data.frame: 3 × 3\n",
       "\n",
       "| categoria &lt;chr&gt; | ix_start &lt;dbl&gt; | ix_stop &lt;dbl&gt; |\n",
       "|---|---|---|\n",
       "| Totale  |   4 | 318 |\n",
       "| Maschi  | 321 | 635 |\n",
       "| Femmine | 638 | 952 |\n",
       "\n"
      ],
      "text/plain": [
       "  categoria ix_start ix_stop\n",
       "1 Totale      4      318    \n",
       "2 Maschi    321      635    \n",
       "3 Femmine   638      952    "
      ]
     },
     "metadata": {},
     "output_type": "display_data"
    }
   ],
   "source": [
    "df_ix <- data.frame(ix_start = str_which(x, '^\\\\d+',negate = T) + 1, \n",
    "                    h = x[!str_detect(x, '^\\\\d+')], \n",
    "                    stringsAsFactors = F) %>% \n",
    "    filter(str_detect(pattern = 'Totale|Maschi|Femmine', string = h)) %>%\n",
    "    mutate(categoria = str_extract(h, '[A-Za-z]+$')) %>% \n",
    "    select(-h) %>%\n",
    "    mutate(ix_stop = ix_start + len_data - 1) %>%\n",
    "    data.frame() %>%\n",
    "    select(categoria, ix_start, ix_stop)\n",
    "\n",
    "df_ix"
   ]
  },
  {
   "cell_type": "code",
   "execution_count": 18,
   "metadata": {},
   "outputs": [
    {
     "data": {
      "text/html": [
       "<style>\n",
       ".list-inline {list-style: none; margin:0; padding: 0}\n",
       ".list-inline>li {display: inline-block}\n",
       ".list-inline>li:not(:last-child)::after {content: \"\\00b7\"; padding: 0 .5ex}\n",
       "</style>\n",
       "<ol class=list-inline><li>1</li><li>2</li><li>3</li><li>11</li></ol>\n"
      ],
      "text/latex": [
       "\\begin{enumerate*}\n",
       "\\item 1\n",
       "\\item 2\n",
       "\\item 3\n",
       "\\item 11\n",
       "\\end{enumerate*}\n"
      ],
      "text/markdown": [
       "1. 1\n",
       "2. 2\n",
       "3. 3\n",
       "4. 11\n",
       "\n",
       "\n"
      ],
      "text/plain": [
       "[1]  1  2  3 11"
      ]
     },
     "metadata": {},
     "output_type": "display_data"
    }
   ],
   "source": [
    "selected_columns"
   ]
  },
  {
   "cell_type": "code",
   "execution_count": 19,
   "metadata": {},
   "outputs": [],
   "source": [
    "file_list <- list()\n",
    "\n",
    "for(i in 1:nrow(df_ix)){\n",
    "    \n",
    "    file_list[[df_ix$categoria[i]]] <- parsing_df(x[df_ix$ix_start[i]:df_ix$ix_stop[i]], selected_columns, header, cat = df_ix$categoria[i])\n",
    "    \n",
    "}"
   ]
  },
  {
   "cell_type": "code",
   "execution_count": 20,
   "metadata": {},
   "outputs": [
    {
     "data": {
      "text/html": [
       "<table>\n",
       "<caption>A data.frame: 945 × 7</caption>\n",
       "<thead>\n",
       "\t<tr><th scope=col>Codice Comune</th><th scope=col>Comuni</th><th scope=col>Popolazione inizio periodo</th><th scope=col>Popolazione fine periodo</th><th scope=col>Categoria</th><th scope=col>Anno</th><th scope=col>Mese</th></tr>\n",
       "\t<tr><th scope=col>&lt;int&gt;</th><th scope=col>&lt;chr&gt;</th><th scope=col>&lt;int&gt;</th><th scope=col>&lt;int&gt;</th><th scope=col>&lt;chr&gt;</th><th scope=col>&lt;lgl&gt;</th><th scope=col>&lt;lgl&gt;</th></tr>\n",
       "</thead>\n",
       "<tbody>\n",
       "\t<tr><td>1001</td><td>Agliè              </td><td> 2665</td><td> 2667</td><td>Totale</td><td>NA</td><td>NA</td></tr>\n",
       "\t<tr><td>1002</td><td>Airasca            </td><td> 3822</td><td> 3829</td><td>Totale</td><td>NA</td><td>NA</td></tr>\n",
       "\t<tr><td>1003</td><td>Ala di Stura       </td><td>  466</td><td>  468</td><td>Totale</td><td>NA</td><td>NA</td></tr>\n",
       "\t<tr><td>1004</td><td>Albiano d Ivrea    </td><td> 1748</td><td> 1747</td><td>Totale</td><td>NA</td><td>NA</td></tr>\n",
       "\t<tr><td>1005</td><td>Alice Superiore    </td><td>  713</td><td>  714</td><td>Totale</td><td>NA</td><td>NA</td></tr>\n",
       "\t<tr><td>1006</td><td>Almese             </td><td> 6408</td><td> 6405</td><td>Totale</td><td>NA</td><td>NA</td></tr>\n",
       "\t<tr><td>1007</td><td>Alpette            </td><td>  278</td><td>  277</td><td>Totale</td><td>NA</td><td>NA</td></tr>\n",
       "\t<tr><td>1008</td><td>Alpignano          </td><td>17115</td><td>17127</td><td>Totale</td><td>NA</td><td>NA</td></tr>\n",
       "\t<tr><td>1009</td><td>Andezeno           </td><td> 2000</td><td> 2006</td><td>Totale</td><td>NA</td><td>NA</td></tr>\n",
       "\t<tr><td>1010</td><td>Andrate            </td><td>  519</td><td>  518</td><td>Totale</td><td>NA</td><td>NA</td></tr>\n",
       "\t<tr><td>1011</td><td>Angrogna           </td><td>  897</td><td>  892</td><td>Totale</td><td>NA</td><td>NA</td></tr>\n",
       "\t<tr><td>1012</td><td>Arignano           </td><td> 1057</td><td> 1056</td><td>Totale</td><td>NA</td><td>NA</td></tr>\n",
       "\t<tr><td>1013</td><td>Avigliana          </td><td>12522</td><td>12487</td><td>Totale</td><td>NA</td><td>NA</td></tr>\n",
       "\t<tr><td>1014</td><td>Azeglio            </td><td> 1348</td><td> 1347</td><td>Totale</td><td>NA</td><td>NA</td></tr>\n",
       "\t<tr><td>1015</td><td>Bairo              </td><td>  797</td><td>  799</td><td>Totale</td><td>NA</td><td>NA</td></tr>\n",
       "\t<tr><td>1016</td><td>Balangero          </td><td> 3190</td><td> 3188</td><td>Totale</td><td>NA</td><td>NA</td></tr>\n",
       "\t<tr><td>1017</td><td>Baldissero Canavese</td><td>  545</td><td>  555</td><td>Totale</td><td>NA</td><td>NA</td></tr>\n",
       "\t<tr><td>1018</td><td>Baldissero Torinese</td><td> 3783</td><td> 3781</td><td>Totale</td><td>NA</td><td>NA</td></tr>\n",
       "\t<tr><td>1019</td><td>Balme              </td><td>  112</td><td>  112</td><td>Totale</td><td>NA</td><td>NA</td></tr>\n",
       "\t<tr><td>1020</td><td>Banchette          </td><td> 3259</td><td> 3255</td><td>Totale</td><td>NA</td><td>NA</td></tr>\n",
       "\t<tr><td>1021</td><td>Barbania           </td><td> 1619</td><td> 1620</td><td>Totale</td><td>NA</td><td>NA</td></tr>\n",
       "\t<tr><td>1022</td><td>Bardonecchia       </td><td> 3232</td><td> 3230</td><td>Totale</td><td>NA</td><td>NA</td></tr>\n",
       "\t<tr><td>1023</td><td>Barone Canavese    </td><td>  579</td><td>  583</td><td>Totale</td><td>NA</td><td>NA</td></tr>\n",
       "\t<tr><td>1024</td><td>Beinasco           </td><td>18237</td><td>18240</td><td>Totale</td><td>NA</td><td>NA</td></tr>\n",
       "\t<tr><td>1025</td><td>Bibiana            </td><td> 3450</td><td> 3461</td><td>Totale</td><td>NA</td><td>NA</td></tr>\n",
       "\t<tr><td>1026</td><td>Bobbio Pellice     </td><td>  558</td><td>  558</td><td>Totale</td><td>NA</td><td>NA</td></tr>\n",
       "\t<tr><td>1027</td><td>Bollengo           </td><td> 2155</td><td> 2161</td><td>Totale</td><td>NA</td><td>NA</td></tr>\n",
       "\t<tr><td>1028</td><td>Borgaro Torinese   </td><td>13599</td><td>13602</td><td>Totale</td><td>NA</td><td>NA</td></tr>\n",
       "\t<tr><td>1029</td><td>Borgiallo          </td><td>  567</td><td>  563</td><td>Totale</td><td>NA</td><td>NA</td></tr>\n",
       "\t<tr><td>1030</td><td>Borgofranco d Ivrea</td><td> 3730</td><td> 3739</td><td>Totale</td><td>NA</td><td>NA</td></tr>\n",
       "\t<tr><td>⋮</td><td>⋮</td><td>⋮</td><td>⋮</td><td>⋮</td><td>⋮</td><td>⋮</td></tr>\n",
       "\t<tr><td>1286</td><td>Vallo Torinese      </td><td>  378</td><td>  379</td><td>Femmine</td><td>NA</td><td>NA</td></tr>\n",
       "\t<tr><td>1287</td><td>Valperga            </td><td> 1669</td><td> 1672</td><td>Femmine</td><td>NA</td><td>NA</td></tr>\n",
       "\t<tr><td>1288</td><td>Valprato Soana      </td><td>   58</td><td>   57</td><td>Femmine</td><td>NA</td><td>NA</td></tr>\n",
       "\t<tr><td>1289</td><td>Varisella           </td><td>  417</td><td>  416</td><td>Femmine</td><td>NA</td><td>NA</td></tr>\n",
       "\t<tr><td>1290</td><td>Vauda Canavese      </td><td>  743</td><td>  741</td><td>Femmine</td><td>NA</td><td>NA</td></tr>\n",
       "\t<tr><td>1291</td><td>Venaus              </td><td>  477</td><td>  476</td><td>Femmine</td><td>NA</td><td>NA</td></tr>\n",
       "\t<tr><td>1292</td><td>Venaria Reale       </td><td>17698</td><td>17691</td><td>Femmine</td><td>NA</td><td>NA</td></tr>\n",
       "\t<tr><td>1293</td><td>Verolengo           </td><td> 2544</td><td> 2544</td><td>Femmine</td><td>NA</td><td>NA</td></tr>\n",
       "\t<tr><td>1294</td><td>Verrua Savoia       </td><td>  727</td><td>  726</td><td>Femmine</td><td>NA</td><td>NA</td></tr>\n",
       "\t<tr><td>1295</td><td>Vestignè            </td><td>  400</td><td>  399</td><td>Femmine</td><td>NA</td><td>NA</td></tr>\n",
       "\t<tr><td>1296</td><td>Vialfrè             </td><td>  137</td><td>  137</td><td>Femmine</td><td>NA</td><td>NA</td></tr>\n",
       "\t<tr><td>1297</td><td>Vico Canavese       </td><td>  443</td><td>  443</td><td>Femmine</td><td>NA</td><td>NA</td></tr>\n",
       "\t<tr><td>1298</td><td>Vidracco            </td><td>  261</td><td>  262</td><td>Femmine</td><td>NA</td><td>NA</td></tr>\n",
       "\t<tr><td>1299</td><td>Vigone              </td><td> 2664</td><td> 2661</td><td>Femmine</td><td>NA</td><td>NA</td></tr>\n",
       "\t<tr><td>1300</td><td>Villafranca Piemonte</td><td> 2432</td><td> 2440</td><td>Femmine</td><td>NA</td><td>NA</td></tr>\n",
       "\t<tr><td>1301</td><td>Villanova Canavese  </td><td>  602</td><td>  601</td><td>Femmine</td><td>NA</td><td>NA</td></tr>\n",
       "\t<tr><td>1302</td><td>Villarbasse         </td><td> 1802</td><td> 1802</td><td>Femmine</td><td>NA</td><td>NA</td></tr>\n",
       "\t<tr><td>1303</td><td>Villar Dora         </td><td> 1489</td><td> 1495</td><td>Femmine</td><td>NA</td><td>NA</td></tr>\n",
       "\t<tr><td>1304</td><td>Villareggia         </td><td>  528</td><td>  528</td><td>Femmine</td><td>NA</td><td>NA</td></tr>\n",
       "\t<tr><td>1305</td><td>Villar Focchiardo   </td><td> 1067</td><td> 1064</td><td>Femmine</td><td>NA</td><td>NA</td></tr>\n",
       "\t<tr><td>1306</td><td>Villar Pellice      </td><td>  574</td><td>  569</td><td>Femmine</td><td>NA</td><td>NA</td></tr>\n",
       "\t<tr><td>1307</td><td>Villar Perosa       </td><td> 2092</td><td> 2088</td><td>Femmine</td><td>NA</td><td>NA</td></tr>\n",
       "\t<tr><td>1308</td><td>Villastellone       </td><td> 2460</td><td> 2459</td><td>Femmine</td><td>NA</td><td>NA</td></tr>\n",
       "\t<tr><td>1309</td><td>Vinovo              </td><td> 7458</td><td> 7468</td><td>Femmine</td><td>NA</td><td>NA</td></tr>\n",
       "\t<tr><td>1310</td><td>Virle Piemonte      </td><td>  595</td><td>  598</td><td>Femmine</td><td>NA</td><td>NA</td></tr>\n",
       "\t<tr><td>1311</td><td>Vische              </td><td>  684</td><td>  680</td><td>Femmine</td><td>NA</td><td>NA</td></tr>\n",
       "\t<tr><td>1312</td><td>Vistrorio           </td><td>  283</td><td>  284</td><td>Femmine</td><td>NA</td><td>NA</td></tr>\n",
       "\t<tr><td>1313</td><td>Viù                 </td><td>  525</td><td>  524</td><td>Femmine</td><td>NA</td><td>NA</td></tr>\n",
       "\t<tr><td>1314</td><td>Volpiano            </td><td> 7885</td><td> 7887</td><td>Femmine</td><td>NA</td><td>NA</td></tr>\n",
       "\t<tr><td>1315</td><td>Volvera             </td><td> 4506</td><td> 4499</td><td>Femmine</td><td>NA</td><td>NA</td></tr>\n",
       "</tbody>\n",
       "</table>\n"
      ],
      "text/latex": [
       "A data.frame: 945 × 7\n",
       "\\begin{tabular}{lllllll}\n",
       " Codice Comune & Comuni & Popolazione inizio periodo & Popolazione fine periodo & Categoria & Anno & Mese\\\\\n",
       " <int> & <chr> & <int> & <int> & <chr> & <lgl> & <lgl>\\\\\n",
       "\\hline\n",
       "\t 1001 & Agliè               &  2665 &  2667 & Totale & NA & NA\\\\\n",
       "\t 1002 & Airasca             &  3822 &  3829 & Totale & NA & NA\\\\\n",
       "\t 1003 & Ala di Stura        &   466 &   468 & Totale & NA & NA\\\\\n",
       "\t 1004 & Albiano d Ivrea     &  1748 &  1747 & Totale & NA & NA\\\\\n",
       "\t 1005 & Alice Superiore     &   713 &   714 & Totale & NA & NA\\\\\n",
       "\t 1006 & Almese              &  6408 &  6405 & Totale & NA & NA\\\\\n",
       "\t 1007 & Alpette             &   278 &   277 & Totale & NA & NA\\\\\n",
       "\t 1008 & Alpignano           & 17115 & 17127 & Totale & NA & NA\\\\\n",
       "\t 1009 & Andezeno            &  2000 &  2006 & Totale & NA & NA\\\\\n",
       "\t 1010 & Andrate             &   519 &   518 & Totale & NA & NA\\\\\n",
       "\t 1011 & Angrogna            &   897 &   892 & Totale & NA & NA\\\\\n",
       "\t 1012 & Arignano            &  1057 &  1056 & Totale & NA & NA\\\\\n",
       "\t 1013 & Avigliana           & 12522 & 12487 & Totale & NA & NA\\\\\n",
       "\t 1014 & Azeglio             &  1348 &  1347 & Totale & NA & NA\\\\\n",
       "\t 1015 & Bairo               &   797 &   799 & Totale & NA & NA\\\\\n",
       "\t 1016 & Balangero           &  3190 &  3188 & Totale & NA & NA\\\\\n",
       "\t 1017 & Baldissero Canavese &   545 &   555 & Totale & NA & NA\\\\\n",
       "\t 1018 & Baldissero Torinese &  3783 &  3781 & Totale & NA & NA\\\\\n",
       "\t 1019 & Balme               &   112 &   112 & Totale & NA & NA\\\\\n",
       "\t 1020 & Banchette           &  3259 &  3255 & Totale & NA & NA\\\\\n",
       "\t 1021 & Barbania            &  1619 &  1620 & Totale & NA & NA\\\\\n",
       "\t 1022 & Bardonecchia        &  3232 &  3230 & Totale & NA & NA\\\\\n",
       "\t 1023 & Barone Canavese     &   579 &   583 & Totale & NA & NA\\\\\n",
       "\t 1024 & Beinasco            & 18237 & 18240 & Totale & NA & NA\\\\\n",
       "\t 1025 & Bibiana             &  3450 &  3461 & Totale & NA & NA\\\\\n",
       "\t 1026 & Bobbio Pellice      &   558 &   558 & Totale & NA & NA\\\\\n",
       "\t 1027 & Bollengo            &  2155 &  2161 & Totale & NA & NA\\\\\n",
       "\t 1028 & Borgaro Torinese    & 13599 & 13602 & Totale & NA & NA\\\\\n",
       "\t 1029 & Borgiallo           &   567 &   563 & Totale & NA & NA\\\\\n",
       "\t 1030 & Borgofranco d Ivrea &  3730 &  3739 & Totale & NA & NA\\\\\n",
       "\t ⋮ & ⋮ & ⋮ & ⋮ & ⋮ & ⋮ & ⋮\\\\\n",
       "\t 1286 & Vallo Torinese       &   378 &   379 & Femmine & NA & NA\\\\\n",
       "\t 1287 & Valperga             &  1669 &  1672 & Femmine & NA & NA\\\\\n",
       "\t 1288 & Valprato Soana       &    58 &    57 & Femmine & NA & NA\\\\\n",
       "\t 1289 & Varisella            &   417 &   416 & Femmine & NA & NA\\\\\n",
       "\t 1290 & Vauda Canavese       &   743 &   741 & Femmine & NA & NA\\\\\n",
       "\t 1291 & Venaus               &   477 &   476 & Femmine & NA & NA\\\\\n",
       "\t 1292 & Venaria Reale        & 17698 & 17691 & Femmine & NA & NA\\\\\n",
       "\t 1293 & Verolengo            &  2544 &  2544 & Femmine & NA & NA\\\\\n",
       "\t 1294 & Verrua Savoia        &   727 &   726 & Femmine & NA & NA\\\\\n",
       "\t 1295 & Vestignè             &   400 &   399 & Femmine & NA & NA\\\\\n",
       "\t 1296 & Vialfrè              &   137 &   137 & Femmine & NA & NA\\\\\n",
       "\t 1297 & Vico Canavese        &   443 &   443 & Femmine & NA & NA\\\\\n",
       "\t 1298 & Vidracco             &   261 &   262 & Femmine & NA & NA\\\\\n",
       "\t 1299 & Vigone               &  2664 &  2661 & Femmine & NA & NA\\\\\n",
       "\t 1300 & Villafranca Piemonte &  2432 &  2440 & Femmine & NA & NA\\\\\n",
       "\t 1301 & Villanova Canavese   &   602 &   601 & Femmine & NA & NA\\\\\n",
       "\t 1302 & Villarbasse          &  1802 &  1802 & Femmine & NA & NA\\\\\n",
       "\t 1303 & Villar Dora          &  1489 &  1495 & Femmine & NA & NA\\\\\n",
       "\t 1304 & Villareggia          &   528 &   528 & Femmine & NA & NA\\\\\n",
       "\t 1305 & Villar Focchiardo    &  1067 &  1064 & Femmine & NA & NA\\\\\n",
       "\t 1306 & Villar Pellice       &   574 &   569 & Femmine & NA & NA\\\\\n",
       "\t 1307 & Villar Perosa        &  2092 &  2088 & Femmine & NA & NA\\\\\n",
       "\t 1308 & Villastellone        &  2460 &  2459 & Femmine & NA & NA\\\\\n",
       "\t 1309 & Vinovo               &  7458 &  7468 & Femmine & NA & NA\\\\\n",
       "\t 1310 & Virle Piemonte       &   595 &   598 & Femmine & NA & NA\\\\\n",
       "\t 1311 & Vische               &   684 &   680 & Femmine & NA & NA\\\\\n",
       "\t 1312 & Vistrorio            &   283 &   284 & Femmine & NA & NA\\\\\n",
       "\t 1313 & Viù                  &   525 &   524 & Femmine & NA & NA\\\\\n",
       "\t 1314 & Volpiano             &  7885 &  7887 & Femmine & NA & NA\\\\\n",
       "\t 1315 & Volvera              &  4506 &  4499 & Femmine & NA & NA\\\\\n",
       "\\end{tabular}\n"
      ],
      "text/markdown": [
       "\n",
       "A data.frame: 945 × 7\n",
       "\n",
       "| Codice Comune &lt;int&gt; | Comuni &lt;chr&gt; | Popolazione inizio periodo &lt;int&gt; | Popolazione fine periodo &lt;int&gt; | Categoria &lt;chr&gt; | Anno &lt;lgl&gt; | Mese &lt;lgl&gt; |\n",
       "|---|---|---|---|---|---|---|\n",
       "| 1001 | Agliè               |  2665 |  2667 | Totale | NA | NA |\n",
       "| 1002 | Airasca             |  3822 |  3829 | Totale | NA | NA |\n",
       "| 1003 | Ala di Stura        |   466 |   468 | Totale | NA | NA |\n",
       "| 1004 | Albiano d Ivrea     |  1748 |  1747 | Totale | NA | NA |\n",
       "| 1005 | Alice Superiore     |   713 |   714 | Totale | NA | NA |\n",
       "| 1006 | Almese              |  6408 |  6405 | Totale | NA | NA |\n",
       "| 1007 | Alpette             |   278 |   277 | Totale | NA | NA |\n",
       "| 1008 | Alpignano           | 17115 | 17127 | Totale | NA | NA |\n",
       "| 1009 | Andezeno            |  2000 |  2006 | Totale | NA | NA |\n",
       "| 1010 | Andrate             |   519 |   518 | Totale | NA | NA |\n",
       "| 1011 | Angrogna            |   897 |   892 | Totale | NA | NA |\n",
       "| 1012 | Arignano            |  1057 |  1056 | Totale | NA | NA |\n",
       "| 1013 | Avigliana           | 12522 | 12487 | Totale | NA | NA |\n",
       "| 1014 | Azeglio             |  1348 |  1347 | Totale | NA | NA |\n",
       "| 1015 | Bairo               |   797 |   799 | Totale | NA | NA |\n",
       "| 1016 | Balangero           |  3190 |  3188 | Totale | NA | NA |\n",
       "| 1017 | Baldissero Canavese |   545 |   555 | Totale | NA | NA |\n",
       "| 1018 | Baldissero Torinese |  3783 |  3781 | Totale | NA | NA |\n",
       "| 1019 | Balme               |   112 |   112 | Totale | NA | NA |\n",
       "| 1020 | Banchette           |  3259 |  3255 | Totale | NA | NA |\n",
       "| 1021 | Barbania            |  1619 |  1620 | Totale | NA | NA |\n",
       "| 1022 | Bardonecchia        |  3232 |  3230 | Totale | NA | NA |\n",
       "| 1023 | Barone Canavese     |   579 |   583 | Totale | NA | NA |\n",
       "| 1024 | Beinasco            | 18237 | 18240 | Totale | NA | NA |\n",
       "| 1025 | Bibiana             |  3450 |  3461 | Totale | NA | NA |\n",
       "| 1026 | Bobbio Pellice      |   558 |   558 | Totale | NA | NA |\n",
       "| 1027 | Bollengo            |  2155 |  2161 | Totale | NA | NA |\n",
       "| 1028 | Borgaro Torinese    | 13599 | 13602 | Totale | NA | NA |\n",
       "| 1029 | Borgiallo           |   567 |   563 | Totale | NA | NA |\n",
       "| 1030 | Borgofranco d Ivrea |  3730 |  3739 | Totale | NA | NA |\n",
       "| ⋮ | ⋮ | ⋮ | ⋮ | ⋮ | ⋮ | ⋮ |\n",
       "| 1286 | Vallo Torinese       |   378 |   379 | Femmine | NA | NA |\n",
       "| 1287 | Valperga             |  1669 |  1672 | Femmine | NA | NA |\n",
       "| 1288 | Valprato Soana       |    58 |    57 | Femmine | NA | NA |\n",
       "| 1289 | Varisella            |   417 |   416 | Femmine | NA | NA |\n",
       "| 1290 | Vauda Canavese       |   743 |   741 | Femmine | NA | NA |\n",
       "| 1291 | Venaus               |   477 |   476 | Femmine | NA | NA |\n",
       "| 1292 | Venaria Reale        | 17698 | 17691 | Femmine | NA | NA |\n",
       "| 1293 | Verolengo            |  2544 |  2544 | Femmine | NA | NA |\n",
       "| 1294 | Verrua Savoia        |   727 |   726 | Femmine | NA | NA |\n",
       "| 1295 | Vestignè             |   400 |   399 | Femmine | NA | NA |\n",
       "| 1296 | Vialfrè              |   137 |   137 | Femmine | NA | NA |\n",
       "| 1297 | Vico Canavese        |   443 |   443 | Femmine | NA | NA |\n",
       "| 1298 | Vidracco             |   261 |   262 | Femmine | NA | NA |\n",
       "| 1299 | Vigone               |  2664 |  2661 | Femmine | NA | NA |\n",
       "| 1300 | Villafranca Piemonte |  2432 |  2440 | Femmine | NA | NA |\n",
       "| 1301 | Villanova Canavese   |   602 |   601 | Femmine | NA | NA |\n",
       "| 1302 | Villarbasse          |  1802 |  1802 | Femmine | NA | NA |\n",
       "| 1303 | Villar Dora          |  1489 |  1495 | Femmine | NA | NA |\n",
       "| 1304 | Villareggia          |   528 |   528 | Femmine | NA | NA |\n",
       "| 1305 | Villar Focchiardo    |  1067 |  1064 | Femmine | NA | NA |\n",
       "| 1306 | Villar Pellice       |   574 |   569 | Femmine | NA | NA |\n",
       "| 1307 | Villar Perosa        |  2092 |  2088 | Femmine | NA | NA |\n",
       "| 1308 | Villastellone        |  2460 |  2459 | Femmine | NA | NA |\n",
       "| 1309 | Vinovo               |  7458 |  7468 | Femmine | NA | NA |\n",
       "| 1310 | Virle Piemonte       |   595 |   598 | Femmine | NA | NA |\n",
       "| 1311 | Vische               |   684 |   680 | Femmine | NA | NA |\n",
       "| 1312 | Vistrorio            |   283 |   284 | Femmine | NA | NA |\n",
       "| 1313 | Viù                  |   525 |   524 | Femmine | NA | NA |\n",
       "| 1314 | Volpiano             |  7885 |  7887 | Femmine | NA | NA |\n",
       "| 1315 | Volvera              |  4506 |  4499 | Femmine | NA | NA |\n",
       "\n"
      ],
      "text/plain": [
       "    Codice Comune Comuni               Popolazione inizio periodo\n",
       "1   1001          Agliè                 2665                     \n",
       "2   1002          Airasca               3822                     \n",
       "3   1003          Ala di Stura           466                     \n",
       "4   1004          Albiano d Ivrea       1748                     \n",
       "5   1005          Alice Superiore        713                     \n",
       "6   1006          Almese                6408                     \n",
       "7   1007          Alpette                278                     \n",
       "8   1008          Alpignano            17115                     \n",
       "9   1009          Andezeno              2000                     \n",
       "10  1010          Andrate                519                     \n",
       "11  1011          Angrogna               897                     \n",
       "12  1012          Arignano              1057                     \n",
       "13  1013          Avigliana            12522                     \n",
       "14  1014          Azeglio               1348                     \n",
       "15  1015          Bairo                  797                     \n",
       "16  1016          Balangero             3190                     \n",
       "17  1017          Baldissero Canavese    545                     \n",
       "18  1018          Baldissero Torinese   3783                     \n",
       "19  1019          Balme                  112                     \n",
       "20  1020          Banchette             3259                     \n",
       "21  1021          Barbania              1619                     \n",
       "22  1022          Bardonecchia          3232                     \n",
       "23  1023          Barone Canavese        579                     \n",
       "24  1024          Beinasco             18237                     \n",
       "25  1025          Bibiana               3450                     \n",
       "26  1026          Bobbio Pellice         558                     \n",
       "27  1027          Bollengo              2155                     \n",
       "28  1028          Borgaro Torinese     13599                     \n",
       "29  1029          Borgiallo              567                     \n",
       "30  1030          Borgofranco d Ivrea   3730                     \n",
       "⋮   ⋮             ⋮                    ⋮                         \n",
       "916 1286          Vallo Torinese         378                     \n",
       "917 1287          Valperga              1669                     \n",
       "918 1288          Valprato Soana          58                     \n",
       "919 1289          Varisella              417                     \n",
       "920 1290          Vauda Canavese         743                     \n",
       "921 1291          Venaus                 477                     \n",
       "922 1292          Venaria Reale        17698                     \n",
       "923 1293          Verolengo             2544                     \n",
       "924 1294          Verrua Savoia          727                     \n",
       "925 1295          Vestignè               400                     \n",
       "926 1296          Vialfrè                137                     \n",
       "927 1297          Vico Canavese          443                     \n",
       "928 1298          Vidracco               261                     \n",
       "929 1299          Vigone                2664                     \n",
       "930 1300          Villafranca Piemonte  2432                     \n",
       "931 1301          Villanova Canavese     602                     \n",
       "932 1302          Villarbasse           1802                     \n",
       "933 1303          Villar Dora           1489                     \n",
       "934 1304          Villareggia            528                     \n",
       "935 1305          Villar Focchiardo     1067                     \n",
       "936 1306          Villar Pellice         574                     \n",
       "937 1307          Villar Perosa         2092                     \n",
       "938 1308          Villastellone         2460                     \n",
       "939 1309          Vinovo                7458                     \n",
       "940 1310          Virle Piemonte         595                     \n",
       "941 1311          Vische                 684                     \n",
       "942 1312          Vistrorio              283                     \n",
       "943 1313          Viù                    525                     \n",
       "944 1314          Volpiano              7885                     \n",
       "945 1315          Volvera               4506                     \n",
       "    Popolazione fine periodo Categoria Anno Mese\n",
       "1    2667                    Totale    NA   NA  \n",
       "2    3829                    Totale    NA   NA  \n",
       "3     468                    Totale    NA   NA  \n",
       "4    1747                    Totale    NA   NA  \n",
       "5     714                    Totale    NA   NA  \n",
       "6    6405                    Totale    NA   NA  \n",
       "7     277                    Totale    NA   NA  \n",
       "8   17127                    Totale    NA   NA  \n",
       "9    2006                    Totale    NA   NA  \n",
       "10    518                    Totale    NA   NA  \n",
       "11    892                    Totale    NA   NA  \n",
       "12   1056                    Totale    NA   NA  \n",
       "13  12487                    Totale    NA   NA  \n",
       "14   1347                    Totale    NA   NA  \n",
       "15    799                    Totale    NA   NA  \n",
       "16   3188                    Totale    NA   NA  \n",
       "17    555                    Totale    NA   NA  \n",
       "18   3781                    Totale    NA   NA  \n",
       "19    112                    Totale    NA   NA  \n",
       "20   3255                    Totale    NA   NA  \n",
       "21   1620                    Totale    NA   NA  \n",
       "22   3230                    Totale    NA   NA  \n",
       "23    583                    Totale    NA   NA  \n",
       "24  18240                    Totale    NA   NA  \n",
       "25   3461                    Totale    NA   NA  \n",
       "26    558                    Totale    NA   NA  \n",
       "27   2161                    Totale    NA   NA  \n",
       "28  13602                    Totale    NA   NA  \n",
       "29    563                    Totale    NA   NA  \n",
       "30   3739                    Totale    NA   NA  \n",
       "⋮   ⋮                        ⋮         ⋮    ⋮   \n",
       "916   379                    Femmine   NA   NA  \n",
       "917  1672                    Femmine   NA   NA  \n",
       "918    57                    Femmine   NA   NA  \n",
       "919   416                    Femmine   NA   NA  \n",
       "920   741                    Femmine   NA   NA  \n",
       "921   476                    Femmine   NA   NA  \n",
       "922 17691                    Femmine   NA   NA  \n",
       "923  2544                    Femmine   NA   NA  \n",
       "924   726                    Femmine   NA   NA  \n",
       "925   399                    Femmine   NA   NA  \n",
       "926   137                    Femmine   NA   NA  \n",
       "927   443                    Femmine   NA   NA  \n",
       "928   262                    Femmine   NA   NA  \n",
       "929  2661                    Femmine   NA   NA  \n",
       "930  2440                    Femmine   NA   NA  \n",
       "931   601                    Femmine   NA   NA  \n",
       "932  1802                    Femmine   NA   NA  \n",
       "933  1495                    Femmine   NA   NA  \n",
       "934   528                    Femmine   NA   NA  \n",
       "935  1064                    Femmine   NA   NA  \n",
       "936   569                    Femmine   NA   NA  \n",
       "937  2088                    Femmine   NA   NA  \n",
       "938  2459                    Femmine   NA   NA  \n",
       "939  7468                    Femmine   NA   NA  \n",
       "940   598                    Femmine   NA   NA  \n",
       "941   680                    Femmine   NA   NA  \n",
       "942   284                    Femmine   NA   NA  \n",
       "943   524                    Femmine   NA   NA  \n",
       "944  7887                    Femmine   NA   NA  \n",
       "945  4499                    Femmine   NA   NA  "
      ]
     },
     "metadata": {},
     "output_type": "display_data"
    }
   ],
   "source": [
    "readLines(url) %>% clear_content"
   ]
  }
 ],
 "metadata": {
  "kernelspec": {
   "display_name": "R",
   "language": "R",
   "name": "ir"
  },
  "language_info": {
   "codemirror_mode": "r",
   "file_extension": ".r",
   "mimetype": "text/x-r-source",
   "name": "R",
   "pygments_lexer": "r",
   "version": "3.6.3"
  }
 },
 "nbformat": 4,
 "nbformat_minor": 4
}
